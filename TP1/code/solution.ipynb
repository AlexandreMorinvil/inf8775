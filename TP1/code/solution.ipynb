{
 "cells": [
  {
   "cell_type": "markdown",
   "metadata": {},
   "source": [
    "# General Initialization"
   ]
  },
  {
   "cell_type": "code",
   "execution_count": 1,
   "metadata": {},
   "outputs": [],
   "source": [
    "import numpy as np\n",
    "import matplotlib.pyplot as plt\n",
    "random_seed = 1"
   ]
  },
  {
   "cell_type": "code",
   "execution_count": 2,
   "metadata": {},
   "outputs": [],
   "source": [
    "import os\n",
    "\n",
    "\"\"\"\n",
    "Launch the script to generate the data.\n",
    "\"\"\"\n",
    "def generate_data(number_buildings):\n",
    "    string_number_buildings = str(number_buildings)\n",
    "    status = os.system('inst_gen.py -s ' + string_number_buildings)\n",
    "    if status == 0 : \n",
    "        print('SUCCESS : Data generation with ' + string_number_buildings + ' buildings')\n",
    "        return 'N' + string_number_buildings + '_0'\n",
    "    else : \n",
    "        print('FAILURE : Data generation with ' + string_number_buildings + ' buildings')\n",
    "        return ''\n",
    "\n",
    "\"\"\"\n",
    "Import the data.\n",
    "\"\"\"\n",
    "def import_data(directory):\n",
    "    return np.genfromtxt(directory, delimiter=' ', dtype=None, usecols=range(0,3), skip_header=1)"
   ]
  },
  {
   "cell_type": "code",
   "execution_count": 3,
   "metadata": {},
   "outputs": [],
   "source": [
    "\"\"\"\n",
    "Generate the critical points from the building data.\n",
    "\"\"\"\n",
    "def find_critical_points(imported_data):\n",
    "    number_buildings = len(imported_data)\n",
    "\n",
    "    upper_left_critical_point = np.array([imported_data[:, 0], imported_data[:, 2]]).T\n",
    "    lower_right_critical_point = np.array([imported_data[:, 1], np.zeros(number_buildings, dtype=np.int8)]).T\n",
    "    critical_points = np.column_stack([upper_left_critical_point, lower_right_critical_point]).reshape((-1,2))\n",
    "\n",
    "    return critical_points"
   ]
  },
  {
   "cell_type": "code",
   "execution_count": 4,
   "metadata": {},
   "outputs": [],
   "source": [
    "\"\"\"\n",
    "Visualize buildings data.\n",
    "\"\"\"\n",
    "def plot_data(buildings_data):\n",
    "    buildings_list_x = []\n",
    "    buildings_list_y = []\n",
    "    for building in buildings_data:\n",
    "        building_to_plot = []\n",
    "        building_to_plot.append([building[0], 0])\n",
    "        building_to_plot.append([building[0], building[2]])\n",
    "        building_to_plot.append([building[1], building[2]])\n",
    "        building_to_plot.append([building[1], 0])\n",
    "\n",
    "        building_to_plot = np.array(building_to_plot)\n",
    "        building_x = building_to_plot[:, 0]\n",
    "        building_y = building_to_plot[:, 1]\n",
    "\n",
    "        buildings_list_x.append(building_x)\n",
    "        buildings_list_y.append(building_y)\n",
    "\n",
    "    plt.figure(figsize=(10,8))    \n",
    "    np.random.seed(random_seed)\n",
    "    for i in range(len(buildings_list_x)):\n",
    "        colors = np.random.rand(3)\n",
    "        plt.plot(buildings_list_x[i], buildings_list_y[i], c=colors)\n",
    "    plt.title(\"Data Visualization\")\n",
    "    plt.xlabel(\"Horizon\")\n",
    "    plt.ylabel(\"Height\")\n",
    "    plt.grid()\n",
    "    plt.show()"
   ]
  },
  {
   "cell_type": "code",
   "execution_count": 5,
   "metadata": {},
   "outputs": [],
   "source": [
    "\"\"\"\n",
    "Visualize solution.\n",
    "\"\"\"\n",
    "def plot_solution(critial_points_kept):\n",
    "    points_to_plot = [[0, 0]]\n",
    "    for point in critial_points_kept:\n",
    "        last_point = points_to_plot[-1]\n",
    "        points_to_plot.append([point[0], last_point[1]])\n",
    "        points_to_plot.append([point[0], point[1]])\n",
    "    last_point = points_to_plot[-1]\n",
    "    # points_to_plot.append([last_point[0]+10, 0])\n",
    "    points_to_plot = points_to_plot[1:]\n",
    "\n",
    "    points_to_plot = np.array(points_to_plot)\n",
    "    x_to_plot = points_to_plot[:,0]\n",
    "    y_to_plot = points_to_plot[:,1]\n",
    "\n",
    "    x_critical_points = critial_points_kept[:,0]\n",
    "    y_critical_points = critial_points_kept[:,1]\n",
    "\n",
    "    plt.figure(figsize=(10,8))\n",
    "    plt.plot(x_to_plot, y_to_plot, color='black', label='Skyline Solution')\n",
    "    plt.scatter(x_critical_points, y_critical_points, color='red', label='Critical points')\n",
    "    plt.title(\"Skyline Solution\")\n",
    "    plt.xlabel(\"Horizon\")\n",
    "    plt.ylabel(\"Height\")\n",
    "    plt.legend()\n",
    "    plt.grid()\n",
    "    plt.show()"
   ]
  },
  {
   "cell_type": "markdown",
   "metadata": {},
   "source": [
    "# Data Generation"
   ]
  },
  {
   "cell_type": "code",
   "execution_count": 6,
   "metadata": {},
   "outputs": [
    {
     "name": "stdout",
     "output_type": "stream",
     "text": [
      "SUCCESS : Data generation with 20 buildings\n"
     ]
    }
   ],
   "source": [
    "generated_file_name = generate_data(number_buildings=20)\n",
    "buildings_data = import_data(generated_file_name)\n",
    "critical_points = find_critical_points(buildings_data)"
   ]
  },
  {
   "cell_type": "code",
   "execution_count": 7,
   "metadata": {},
   "outputs": [
    {
     "data": {
      "image/png": "[encoded data removed]",
      "text/plain": [
       "<Figure size 720x576 with 1 Axes>"
      ]
     },
     "metadata": {
      "needs_background": "light"
     },
     "output_type": "display_data"
    }
   ],
   "source": [
    "plot_data(buildings_data)"
   ]
  },
  {
   "cell_type": "markdown",
   "metadata": {},
   "source": [
    "# Brute Force Algorithm"
   ]
  },
  {
   "cell_type": "markdown",
   "metadata": {},
   "source": [
    "## Definitions"
   ]
  },
  {
   "cell_type": "code",
   "execution_count": 8,
   "metadata": {},
   "outputs": [],
   "source": [
    "# Pseudocode :\n",
    "\n",
    "# Sort the points critical points accorting to their x axis\n",
    "# FOR every critical points\n",
    "#     FOR every building\n",
    "#         IF (the critical point is in a building) AND (the height is below the building height)\n",
    "#             Raise the critical point\n",
    "#\n",
    "#     IF the critical point is not redundant\n",
    "#         Add the critical points to the solution\n",
    "\n",
    "def brute_force_solve(buildings_data):\n",
    "\n",
    "    critical_points = find_critical_points(buildings_data)\n",
    "    sorted_critical_points = critical_points[np.argsort(critical_points, axis=0)[:, 0]]\n",
    "    \n",
    "    points_to_keep = [[0,0]]\n",
    "    for point in sorted_critical_points:\n",
    "        for building in buildings_data:\n",
    "            if point[0] > building[0] and point[0] < building[1] and point[1] < building[2]:\n",
    "                point[1] = building[2]\n",
    "\n",
    "            if point[0] < building[0]:\n",
    "                break\n",
    "        \n",
    "        previous_point_kept = points_to_keep[-1]\n",
    "        if previous_point_kept[1] != point[1]:\n",
    "            if point[0] == previous_point_kept[0]:\n",
    "                if point[1] > previous_point_kept[1]:\n",
    "                    points_to_keep.pop()\n",
    "                    points_to_keep.append(point)\n",
    "                \n",
    "            else :\n",
    "                points_to_keep.append(point)\n",
    "\n",
    "    points_to_keep = np.array(points_to_keep[1:])\n",
    "    return points_to_keep"
   ]
  },
  {
   "cell_type": "markdown",
   "metadata": {},
   "source": [
    "## Usage"
   ]
  },
  {
   "cell_type": "code",
   "execution_count": 9,
   "metadata": {},
   "outputs": [
    {
     "data": {
      "image/png": "[encoded data removed]",
      "text/plain": [
       "<Figure size 720x576 with 1 Axes>"
      ]
     },
     "metadata": {
      "needs_background": "light"
     },
     "output_type": "display_data"
    }
   ],
   "source": [
    "points_to_keep = brute_force_solve(buildings_data)\n",
    "plot_solution(points_to_keep)"
   ]
  },
  {
   "cell_type": "markdown",
   "metadata": {},
   "source": [
    "# Divide to Reign Algorithm"
   ]
  },
  {
   "cell_type": "markdown",
   "metadata": {},
   "source": [
    "## Definitions"
   ]
  },
  {
   "cell_type": "code",
   "execution_count": 10,
   "metadata": {},
   "outputs": [],
   "source": [
    "def recombine_solutions(first_group, second_group): \n",
    "    index_first_group = 0\n",
    "    index_second_group = 0\n",
    "    \n",
    "    total_index_first_group = len(first_group)\n",
    "    total_index_second_group = len(second_group)\n",
    "    \n",
    "    is_first_group_covered = False\n",
    "    is_second_group_covered = False\n",
    "    \n",
    "    first_element = first_group[index_first_group]\n",
    "    second_element = second_group[index_second_group]\n",
    "    \n",
    "    height_1 = 0\n",
    "    height_2 = 0\n",
    "    current_height = 0\n",
    "    \n",
    "    current_element = [0, 0]\n",
    "    new_solution = [[0, 0]]\n",
    "    \n",
    "    while not(is_first_group_covered) or not(is_second_group_covered) :\n",
    "        if (not(is_first_group_covered) and first_element[0] <= second_element[0]) or is_second_group_covered:\n",
    "            current_element = first_element\n",
    "            height_1 = current_element[1]\n",
    "            \n",
    "            if current_element[1] < height_2 :\n",
    "                current_element[1] = height_2\n",
    "            \n",
    "            index_first_group += 1\n",
    "            if index_first_group < total_index_first_group:\n",
    "                first_element = first_group[index_first_group]\n",
    "            else:\n",
    "                is_first_group_covered = True\n",
    "            \n",
    "        elif (not(is_second_group_covered) and second_element[0] <= first_element[0]) or is_first_group_covered:\n",
    "            current_element = second_element\n",
    "            height_2 = current_element[1]\n",
    "            \n",
    "            if current_element[1] < height_1 :\n",
    "                current_element[1] = height_1\n",
    "            \n",
    "            index_second_group += 1\n",
    "            if index_second_group < total_index_second_group:\n",
    "                second_element = second_group[index_second_group]\n",
    "            else:\n",
    "                is_second_group_covered = True\n",
    "                \n",
    "        else :\n",
    "            print ('ERROR: IMPOSSIBLE STATE')\n",
    "            break\n",
    "        \n",
    "        # Add the points that are not redundant\n",
    "        previous_point_kept = new_solution[-1]\n",
    "        if previous_point_kept[1] != current_element[1]:\n",
    "            if current_element[0] == previous_point_kept[0]:\n",
    "                if current_element[1] > previous_point_kept[1]:\n",
    "                    new_solution.pop()\n",
    "                    new_solution.append(current_element)\n",
    "                \n",
    "            else :\n",
    "                new_solution.append(current_element)\n",
    "    \n",
    "    new_solution = np.array(new_solution[1:])\n",
    "    return new_solution"
   ]
  },
  {
   "cell_type": "code",
   "execution_count": 11,
   "metadata": {},
   "outputs": [],
   "source": [
    "# Pseudocode :\n",
    "\n",
    "# Function Divide-to-Reign(x {Sample}) : y {solution}\n",
    "#     IF is small return brute-force-algorithm(x)\n",
    "#     Decompose x en 2 sub-samples x_0, x_1\n",
    "#     FOR i=1 to n do :\n",
    "#         yi <-- Divide-to-Reign(x_i)\n",
    "#     Recombine y_n to y\n",
    "#\n",
    "#     RETURN y\n",
    "\n",
    "def divide_to_reign_solve(buildings_data, recursion_threshold=1):\n",
    "    \n",
    "    # IF is small return brute-force-algorithm(x)\n",
    "    if len(buildings_data) == max(1, recursion_threshold):\n",
    "        return brute_force_solve(buildings_data)\n",
    "    \n",
    "    # Decompose x en 2 sub-samples x_0, x_1\n",
    "    left_group = None\n",
    "    right_group = None\n",
    "    if len(buildings_data) % 2 == 0 :\n",
    "        splited_buidings_data = np.vsplit(buildings_data[:], 2)\n",
    "        left_group = splited_buidings_data[0]\n",
    "        right_group = splited_buidings_data[1]\n",
    "    else :\n",
    "        splited_buidings_data = np.vsplit(buildings_data[:-1], 2)\n",
    "        left_group = splited_buidings_data[0]\n",
    "        right_group = np.vstack((splited_buidings_data[1], buildings_data[-1]))\n",
    "        \n",
    "    # FOR i=1 to n do : yi <-- Divide-to-Reign(x_i)\n",
    "    left_solution = divide_to_reign_solve(left_group)\n",
    "    right_solution = divide_to_reign_solve(right_group)\n",
    "    \n",
    "    # Recombine y_n to y\n",
    "    solution = recombine_solutions(left_solution, right_solution)\n",
    "    \n",
    "    # RETURN y\n",
    "    return solution"
   ]
  },
  {
   "cell_type": "markdown",
   "metadata": {},
   "source": [
    "## Usage"
   ]
  },
  {
   "cell_type": "code",
   "execution_count": 12,
   "metadata": {},
   "outputs": [
    {
     "data": {
      "image/png": "[encoded data removed]",
      "text/plain": [
       "<Figure size 720x576 with 1 Axes>"
      ]
     },
     "metadata": {
      "needs_background": "light"
     },
     "output_type": "display_data"
    }
   ],
   "source": [
    "solution_reached = divide_to_reign_solve(buildings_data, recursion_threshold=1)\n",
    "plot_solution(solution_reached)"
   ]
  },
  {
   "cell_type": "code",
   "execution_count": 13,
   "metadata": {},
   "outputs": [
    {
     "data": {
      "image/png": "[encoded data removed]",
      "text/plain": [
       "<Figure size 720x576 with 1 Axes>"
      ]
     },
     "metadata": {
      "needs_background": "light"
     },
     "output_type": "display_data"
    }
   ],
   "source": [
    "solution_reached = divide_to_reign_solve(buildings_data, recursion_threshold=5)\n",
    "plot_solution(solution_reached)"
   ]
  },
  {
   "cell_type": "markdown",
   "metadata": {},
   "source": [
    "# Script to generate python script"
   ]
  },
  {
   "cell_type": "code",
   "execution_count": 13,
   "metadata": {},
   "outputs": [],
   "source": [
    "# !jupyter nbconvert --to script solution.ipynb"
   ]
  },
  {
   "cell_type": "code",
   "execution_count": null,
   "metadata": {},
   "outputs": [],
   "source": []
  }
 ],
 "metadata": {
  "kernelspec": {
   "display_name": "Python 3",
   "language": "python",
   "name": "python3"
  },
  "language_info": {
   "codemirror_mode": {
    "name": "ipython",
    "version": 3
   },
   "file_extension": ".py",
   "mimetype": "text/x-python",
   "name": "python",
   "nbconvert_exporter": "python",
   "pygments_lexer": "ipython3",
   "version": "3.7.8"
  }
 },
 "nbformat": 4,
 "nbformat_minor": 4
}
